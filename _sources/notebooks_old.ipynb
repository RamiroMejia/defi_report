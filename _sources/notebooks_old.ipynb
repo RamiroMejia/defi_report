{
 "cells": [
  {
   "cell_type": "markdown",
   "metadata": {
    "tags": []
   },
   "source": [
    "# Project Overview\n",
    "\n",
    "## I. Introduction\n",
    "\n",
    "### What is Blockchain?\n",
    "    \n",
    "Blockchain is a distributed database in which a record of transactions made is shared and verified among the nodes of a computer network. Technology allowed for invention and adoptation of digital assets and decentralized financing among many others\n",
    "\n",
    "### What is Decentralized Financing (DeFi)\n",
    "    \n",
    "Decentralized Financing is a new form of trading and financing using blockchain. DeFi platforms allows for trading in Automated Market Maker with lowered fees and increased gains. Investors and traders deposit their money into pools (smart contracts) instead of trading against each unlike conventional exchange markets."
   ]
  },
  {
   "cell_type": "markdown",
   "metadata": {},
   "source": [
    "<img src=\"../data/images/swap_image.jpeg\" width=900 height=400 />"
   ]
  },
  {
   "cell_type": "markdown",
   "metadata": {},
   "source": [
    "These pools of capital can be used for various financial applications. Trader inputs Token A + some fee amount to retrieve desired Token B. For example inputs Ethereum to receive Bitcoin.\n",
    "A wallet can execute 3 types of transactions in DeFi:\n",
    "- Swap: Swap token A for token B in a pool.\n",
    "- Mint (Deposit): Deposit money into a pool.\n",
    "- Burn (Withdraw): Withdraw money from a pool."
   ]
  },
  {
   "cell_type": "markdown",
   "metadata": {},
   "source": [
    "## II. Procedure and Methodology"
   ]
  },
  {
   "cell_type": "markdown",
   "metadata": {},
   "source": [
    "### Data Set"
   ]
  },
  {
   "cell_type": "markdown",
   "metadata": {},
   "source": [
    "### Objective and Research Question"
   ]
  },
  {
   "cell_type": "markdown",
   "metadata": {},
   "source": [
    "With information collected on all major public blockchains the project objective is to develop wallet-specific engineered features in to run an unsupervised learning model to cluster wallets based on their underlying trading characteristics. By doing this, we will be able to track the most profitable wallets in a blockchain and the flow of capital.\n",
    "\n",
    "Final expected Products:\n",
    "- A Machine Learning algorithm able to automate labelling of wallets \n",
    "- Additional documentation: jupyter notebook including EDA and feature engineering.\n",
    "\n",
    "**Research Question**: \"*How to identifying accounts linked to successful investors traders and analyzing common patterns between investor behaviour?*\""
   ]
  }
 ],
 "metadata": {
  "kernelspec": {
   "display_name": "Python 3 (ipykernel)",
   "language": "python",
   "name": "python3"
  },
  "language_info": {
   "codemirror_mode": {
    "name": "ipython",
    "version": 3
   },
   "file_extension": ".py",
   "mimetype": "text/x-python",
   "name": "python",
   "nbconvert_exporter": "python",
   "pygments_lexer": "ipython3",
   "version": "3.9.12"
  },
  "widgets": {
   "application/vnd.jupyter.widget-state+json": {
    "state": {},
    "version_major": 2,
    "version_minor": 0
   }
  }
 },
 "nbformat": 4,
 "nbformat_minor": 4
}
